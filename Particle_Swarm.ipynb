{
  "nbformat": 4,
  "nbformat_minor": 0,
  "metadata": {
    "colab": {
      "provenance": []
    },
    "kernelspec": {
      "name": "python3",
      "display_name": "Python 3"
    },
    "language_info": {
      "name": "python"
    }
  },
  "cells": [
    {
      "cell_type": "code",
      "execution_count": null,
      "metadata": {
        "colab": {
          "base_uri": "https://localhost:8080/"
        },
        "id": "bCbQR4ealu9c",
        "outputId": "524d0728-30ee-46ae-99da-aca6c68f1361"
      },
      "outputs": [
        {
          "output_type": "stream",
          "name": "stdout",
          "text": [
            "Iteration 1: Best Value = 3.908657\n",
            "Iteration 2: Best Value = 1.175851\n",
            "Iteration 3: Best Value = 0.105595\n",
            "Iteration 4: Best Value = 0.105595\n",
            "Iteration 5: Best Value = 0.001681\n",
            "Optimization Complete!\n",
            "\n",
            "Best Position Found: [-0.0405837  0.0058671]\n",
            "Best Value Found: 0.0016814593000170283\n"
          ]
        }
      ],
      "source": [
        "import numpy as np\n",
        "\n",
        "class Particle:\n",
        "    def __init__(self, dimensions):\n",
        "        # Initialize particle's position and velocity randomly\n",
        "        self.position = np.random.uniform(-10, 10, dimensions)\n",
        "        self.velocity = np.random.uniform(-1, 1, dimensions)\n",
        "        self.best_position = self.position.copy()\n",
        "        self.best_value = float('inf')  # Set initial best value to infinity\n",
        "\n",
        "def objective_function(x):\n",
        "    \"\"\"\n",
        "    Sphere Function: A common function used in optimization.\n",
        "    The goal is to minimize this function, where the global minimum is at 0.\n",
        "    \"\"\"\n",
        "    return np.sum(x**2)\n",
        "\n",
        "def particle_swarm_optimization(dimensions, num_particles, num_iterations, inertia_weight, cognitive_coeff, social_coeff):\n",
        "    \"\"\"\n",
        "    Particle Swarm Optimization Algorithm.\n",
        "    Args:\n",
        "        dimensions (int): Number of dimensions of the search space.\n",
        "        num_particles (int): Number of particles in the swarm.\n",
        "        num_iterations (int): Number of iterations to perform.\n",
        "        inertia_weight (float): Weight for the particle's inertia in velocity update.\n",
        "        cognitive_coeff (float): Coefficient for the cognitive component (particle's best position).\n",
        "        social_coeff (float): Coefficient for the social component (global best position).\n",
        "\n",
        "    Returns:\n",
        "        global_best_position (array): Position corresponding to the best solution.\n",
        "        global_best_value (float): Best value of the objective function found.\n",
        "    \"\"\"\n",
        "    # Initialize particles\n",
        "    particles = [Particle(dimensions) for _ in range(num_particles)]\n",
        "    global_best_position = None\n",
        "    global_best_value = float('inf')\n",
        "\n",
        "    # Main optimization loop\n",
        "    for iteration in range(num_iterations):\n",
        "        for particle in particles:\n",
        "            # Evaluate the fitness of the particle\n",
        "            fitness_value = objective_function(particle.position)\n",
        "\n",
        "            # Update personal best position and value\n",
        "            if fitness_value < particle.best_value:\n",
        "                particle.best_value = fitness_value\n",
        "                particle.best_position = particle.position.copy()\n",
        "\n",
        "            # Update global best position and value\n",
        "            if fitness_value < global_best_value:\n",
        "                global_best_value = fitness_value\n",
        "                global_best_position = particle.position.copy()\n",
        "\n",
        "        # Update velocity and position for each particle\n",
        "        for particle in particles:\n",
        "            r1 = np.random.rand()  # Random coefficient for cognitive component\n",
        "            r2 = np.random.rand()  # Random coefficient for social component\n",
        "\n",
        "            cognitive_component = cognitive_coeff * r1 * (particle.best_position - particle.position)\n",
        "            social_component = social_coeff * r2 * (global_best_position - particle.position)\n",
        "            particle.velocity = (inertia_weight * particle.velocity) + cognitive_component + social_component\n",
        "            particle.position += particle.velocity\n",
        "\n",
        "        # Display progress\n",
        "        print(f\"Iteration {iteration + 1}: Best Value = {global_best_value:.6f}\")\n",
        "\n",
        "    print(\"Optimization Complete!\")\n",
        "    return global_best_position, global_best_value\n",
        "\n",
        "# Example Usage\n",
        "if __name__ == \"__main__\":\n",
        "    DIMENSIONS = 2  # Number of dimensions (search space)\n",
        "    NUM_PARTICLES = 30  # Number of particles in the swarm\n",
        "    NUM_ITERATIONS = 5  # Number of iterations\n",
        "    INERTIA_WEIGHT = 0.7  # Weight for particle inertia\n",
        "    COGNITIVE_COEFF = 1.5  # Cognitive component coefficient\n",
        "    SOCIAL_COEFF = 1.5  # Social component coefficient\n",
        "\n",
        "    # Run PSO\n",
        "    best_position, best_value = particle_swarm_optimization(\n",
        "        DIMENSIONS, NUM_PARTICLES, NUM_ITERATIONS, INERTIA_WEIGHT, COGNITIVE_COEFF, SOCIAL_COEFF\n",
        "    )\n",
        "\n",
        "    # Output the results\n",
        "    print(\"\\nBest Position Found:\", best_position)\n",
        "    print(\"Best Value Found:\", best_value)\n"
      ]
    }
  ]
}